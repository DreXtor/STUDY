{
 "cells": [
  {
   "cell_type": "markdown",
   "metadata": {},
   "source": [
    "어떠한 수N이 1이 될 때까지 다음과의 두 과정 중 하나를 반복적으로 선채택하여 수행하려고 합니다.\n",
    "단, 두번째 연산은 N이 K로 나누어 떨어질 때만 선택할 수 있습니다.\n",
    "1. N에서 1을 뺍니다.\n",
    "2. N을 K로 나눕니다.\n",
    "\n",
    "N과 K가 주어질 때 N이 1이 될 때까지 1번 혹은 2번의 과정을 수행해야 하는 횟수의 최솟값을 출력합니다."
   ]
  },
  {
   "cell_type": "code",
   "execution_count": 25,
   "metadata": {},
   "outputs": [
    {
     "name": "stdout",
     "output_type": "stream",
     "text": [
      "20 3\n"
     ]
    }
   ],
   "source": [
    "N,K = map(int, input().split(' '))\n",
    "\n"
   ]
  },
  {
   "cell_type": "code",
   "execution_count": 26,
   "metadata": {},
   "outputs": [
    {
     "name": "stdout",
     "output_type": "stream",
     "text": [
      "18 3 18\n",
      "6 4 6\n",
      "5\n"
     ]
    }
   ],
   "source": [
    "result = 0\n",
    "\n",
    "while True:\n",
    "    # N이 K로 나누어 떨어질 때 까지 나눈다\n",
    "    # N이 K로 나누어 떨어지지 않으면 나누어 떨어지는 가까운 수를 찾고자 할 때 사용 가능\n",
    "    target = (N//K)*K\n",
    "    # 나누어 떨어지지 않으면 -1을 한 횟수\n",
    "    # ex) N = 20, K = 3\n",
    "    #     target = (20//3)*3 = (6)*3 = 18 \n",
    "    #     나누어 떨어지는 수가 될 때까지 -1을 해준다    \n",
    "    #     나누어 떨어지는 수가 18 이기 때문에 -1을 2번 해준다\n",
    "    result += (N-target)\n",
    "    \n",
    "    # N에서 -1을 한 나머지 값\n",
    "    N = target\n",
    "    \n",
    "    if N < K:\n",
    "        break\n",
    "        \n",
    "    # print(target, result, N)\n",
    "    result += 1\n",
    "    N //= K\n",
    "    \n",
    "\n",
    "result += (N - 1)\n",
    "print(result)"
   ]
  },
  {
   "cell_type": "code",
   "execution_count": null,
   "metadata": {},
   "outputs": [],
   "source": []
  }
 ],
 "metadata": {
  "kernelspec": {
   "display_name": "Python 3",
   "language": "python",
   "name": "python3"
  },
  "language_info": {
   "codemirror_mode": {
    "name": "ipython",
    "version": 3
   },
   "file_extension": ".py",
   "mimetype": "text/x-python",
   "name": "python",
   "nbconvert_exporter": "python",
   "pygments_lexer": "ipython3",
   "version": "3.7.9"
  }
 },
 "nbformat": 4,
 "nbformat_minor": 4
}
