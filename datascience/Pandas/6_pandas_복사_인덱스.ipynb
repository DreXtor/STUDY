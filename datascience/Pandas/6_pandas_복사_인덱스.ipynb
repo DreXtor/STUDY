{
 "cells": [
  {
   "cell_type": "code",
   "execution_count": 1,
   "metadata": {
    "colab": {},
    "colab_type": "code",
    "id": "wn5bqJ9PYkYK"
   },
   "outputs": [],
   "source": [
    "import pandas as pd"
   ]
  },
  {
   "cell_type": "markdown",
   "metadata": {
    "colab_type": "text",
    "id": "aozei8JpYmNC"
   },
   "source": [
    "## 실습에 활용한 예제"
   ]
  },
  {
   "cell_type": "markdown",
   "metadata": {
    "colab_type": "text",
    "id": "h9_3_cuwYpIy"
   },
   "source": [
    "[국내 아이돌 평판지수 (csv)](http://bit.ly/ds-korean-idol)"
   ]
  },
  {
   "cell_type": "markdown",
   "metadata": {
    "colab_type": "text",
    "id": "5q11zenIY6eq"
   },
   "source": [
    "## DataFrame 로드"
   ]
  },
  {
   "cell_type": "code",
   "execution_count": 3,
   "metadata": {
    "colab": {},
    "colab_type": "code",
    "id": "whW8jFpvYfEC"
   },
   "outputs": [],
   "source": [
    "df = pd.read_csv('https://bit.ly/ds-korean-idol')"
   ]
  },
  {
   "cell_type": "markdown",
   "metadata": {
    "colab_type": "text",
    "id": "CMCICIVbdciN"
   },
   "source": [
    "## 1. copy (복사)"
   ]
  },
  {
   "cell_type": "markdown",
   "metadata": {
    "colab_type": "text",
    "id": "jSVKT5JidcZ4"
   },
   "source": [
    "copy는 단어 그대로, dataframe을 복사할 때 사용합니다."
   ]
  },
  {
   "cell_type": "code",
   "execution_count": null,
   "metadata": {
    "colab": {},
    "colab_type": "code",
    "id": "5k94J53odcTo"
   },
   "outputs": [],
   "source": [
    "df.head()"
   ]
  },
  {
   "cell_type": "markdown",
   "metadata": {
    "colab_type": "text",
    "id": "aARnn4PXeFCT"
   },
   "source": [
    "df를 **새로운 변수(new_df)에 대입**해 주고, 새로운 변수에서 값을 바꾼다면, 원래의 DataFrame의 값은 어떻게 될까요?"
   ]
  },
  {
   "cell_type": "code",
   "execution_count": null,
   "metadata": {
    "colab": {},
    "colab_type": "code",
    "id": "5VQPZIFhdr8_"
   },
   "outputs": [],
   "source": [
    "new_df = df"
   ]
  },
  {
   "cell_type": "code",
   "execution_count": null,
   "metadata": {
    "colab": {},
    "colab_type": "code",
    "id": "Qx4qot3FJSGI"
   },
   "outputs": [],
   "source": [
    "new_df.head()"
   ]
  },
  {
   "cell_type": "code",
   "execution_count": null,
   "metadata": {
    "colab": {},
    "colab_type": "code",
    "id": "kMFsdxY0dr3s"
   },
   "outputs": [],
   "source": [
    "new_df['이름'] = 0"
   ]
  },
  {
   "cell_type": "code",
   "execution_count": null,
   "metadata": {
    "colab": {},
    "colab_type": "code",
    "id": "8AJDB7H1JYB2"
   },
   "outputs": [],
   "source": [
    "new_df.head()"
   ]
  },
  {
   "cell_type": "code",
   "execution_count": null,
   "metadata": {
    "colab": {},
    "colab_type": "code",
    "id": "Diyfc9jdd1DT"
   },
   "outputs": [],
   "source": [
    "df.head()"
   ]
  },
  {
   "cell_type": "markdown",
   "metadata": {
    "colab_type": "text",
    "id": "cUTGBAFVd09Z"
   },
   "source": [
    "이렇게 되는 이유는 같은 메모리 주소를 참조하기 때문입니다."
   ]
  },
  {
   "cell_type": "code",
   "execution_count": null,
   "metadata": {
    "colab": {},
    "colab_type": "code",
    "id": "37cgGdsPeaFU"
   },
   "outputs": [],
   "source": [
    "hex(id(new_df))"
   ]
  },
  {
   "cell_type": "code",
   "execution_count": null,
   "metadata": {
    "colab": {},
    "colab_type": "code",
    "id": "tHf3ok8jd03k"
   },
   "outputs": [],
   "source": [
    "hex(id(df))"
   ]
  },
  {
   "cell_type": "markdown",
   "metadata": {
    "colab_type": "text",
    "id": "kB9w_6ZDdcNS"
   },
   "source": [
    "굉장히 많은 분들이 실수를 하시는 부분입니다.\n",
    "\n",
    "**원본 데이터를 유지 시키고, 새로운 변수에 복사할 때는 copy()를 사용해 주세요**"
   ]
  },
  {
   "cell_type": "code",
   "execution_count": null,
   "metadata": {
    "colab": {},
    "colab_type": "code",
    "id": "35dDWJFce5aY"
   },
   "outputs": [],
   "source": [
    "df = pd.read_csv('https://bit.ly/ds-korean-idol')"
   ]
  },
  {
   "cell_type": "code",
   "execution_count": null,
   "metadata": {
    "colab": {},
    "colab_type": "code",
    "id": "Fis_cBXre13k"
   },
   "outputs": [],
   "source": [
    "copy_df = df.copy()"
   ]
  },
  {
   "cell_type": "code",
   "execution_count": null,
   "metadata": {
    "colab": {},
    "colab_type": "code",
    "id": "DyWwUyGXe8iH"
   },
   "outputs": [],
   "source": [
    "hex(id(df))"
   ]
  },
  {
   "cell_type": "code",
   "execution_count": null,
   "metadata": {
    "colab": {},
    "colab_type": "code",
    "id": "wGb1wL4Ye8b_"
   },
   "outputs": [],
   "source": [
    "hex(id(copy_df))"
   ]
  },
  {
   "cell_type": "code",
   "execution_count": null,
   "metadata": {
    "colab": {},
    "colab_type": "code",
    "id": "1vc5_iYcfDl4"
   },
   "outputs": [],
   "source": [
    "df.head()"
   ]
  },
  {
   "cell_type": "code",
   "execution_count": null,
   "metadata": {
    "colab": {},
    "colab_type": "code",
    "id": "ZlaadeGkfDfx"
   },
   "outputs": [],
   "source": [
    "copy_df.head()"
   ]
  },
  {
   "cell_type": "code",
   "execution_count": null,
   "metadata": {
    "colab": {},
    "colab_type": "code",
    "id": "BfTd748CfG54"
   },
   "outputs": [],
   "source": [
    "copy_df['이름'] = 0"
   ]
  },
  {
   "cell_type": "code",
   "execution_count": null,
   "metadata": {
    "colab": {},
    "colab_type": "code",
    "id": "v4WcTyGmfG0r"
   },
   "outputs": [],
   "source": [
    "copy_df.head()"
   ]
  },
  {
   "cell_type": "code",
   "execution_count": null,
   "metadata": {
    "colab": {},
    "colab_type": "code",
    "id": "rRjgO0UUdbnO"
   },
   "outputs": [],
   "source": [
    "df.head()"
   ]
  },
  {
   "cell_type": "markdown",
   "metadata": {
    "colab_type": "text",
    "id": "9R1oTsR8fQiz"
   },
   "source": [
    "## 2. row, column 추가 및 삭제"
   ]
  },
  {
   "cell_type": "markdown",
   "metadata": {
    "colab_type": "text",
    "id": "RqNOMOYlhTLv"
   },
   "source": [
    "### 2-1. row의 추가"
   ]
  },
  {
   "cell_type": "code",
   "execution_count": null,
   "metadata": {
    "colab": {},
    "colab_type": "code",
    "id": "D7JjRZLffQp2"
   },
   "outputs": [],
   "source": [
    "df.head()"
   ]
  },
  {
   "cell_type": "markdown",
   "metadata": {
    "colab_type": "text",
    "id": "Y1R4SZEOgrUz"
   },
   "source": [
    "dictionary 형태의 데이터를 만들어 준다음 **append()** 함수를 사용하여 데이터를 추가할 수 있습니다. 반드시, **ignore_index=True** 옵션을 같이 추가해 주셔야 에러가 안납니다!"
   ]
  },
  {
   "cell_type": "code",
   "execution_count": null,
   "metadata": {
    "colab": {},
    "colab_type": "code",
    "id": "OFn8MJb8fQli"
   },
   "outputs": [],
   "source": [
    "df.append({'이름': '테디', '그룹': '테디그룹', '소속사': '끝내주는소속사', '성별': '남자', '생년월일': '1970-01-01', '키': 195.0, '혈액형': 'O', '브랜드평판지수': 12345678}, ignore_index=True)"
   ]
  },
  {
   "cell_type": "code",
   "execution_count": null,
   "metadata": {
    "colab": {},
    "colab_type": "code",
    "id": "NA_xQxkTgMq4"
   },
   "outputs": [],
   "source": [
    "df.tail()"
   ]
  },
  {
   "cell_type": "markdown",
   "metadata": {
    "colab_type": "text",
    "id": "4QpzB2LyhHKt"
   },
   "source": [
    "또한, append() 한 뒤 다시 df에 대입해줘야 변경한 값이 유지 됩니다."
   ]
  },
  {
   "cell_type": "code",
   "execution_count": null,
   "metadata": {
    "colab": {},
    "colab_type": "code",
    "id": "gOdzjbWpg8Fw"
   },
   "outputs": [],
   "source": [
    "df = df.append({'이름': '테디', '그룹': '테디그룹', '소속사': '끝내주는소속사', '성별': '남자', '생년월일': '1970-01-01', '키': 195.0, '혈액형': 'O', '브랜드평판지수': 12345678}, ignore_index=True)"
   ]
  },
  {
   "cell_type": "code",
   "execution_count": null,
   "metadata": {
    "colab": {},
    "colab_type": "code",
    "id": "AdckIZhlhD-H"
   },
   "outputs": [],
   "source": [
    "df.tail()"
   ]
  },
  {
   "cell_type": "markdown",
   "metadata": {
    "colab_type": "text",
    "id": "2zylHZs0hV_B"
   },
   "source": [
    "### 2-2. column 추가"
   ]
  },
  {
   "cell_type": "markdown",
   "metadata": {
    "colab_type": "text",
    "id": "_oSo-nhKfQWU"
   },
   "source": [
    "column 추가는 매우 쉽습니다. 단순히 새로운 column을 만들고 값을 대입해주면, 자동으로 생성합니다."
   ]
  },
  {
   "cell_type": "code",
   "execution_count": null,
   "metadata": {
    "colab": {},
    "colab_type": "code",
    "id": "ZN-AECfzfQSR"
   },
   "outputs": [],
   "source": [
    "df.head()"
   ]
  },
  {
   "cell_type": "code",
   "execution_count": null,
   "metadata": {
    "colab": {},
    "colab_type": "code",
    "id": "ixNe4mnCLVr_"
   },
   "outputs": [],
   "source": [
    "df['국적'] = '대한민국'"
   ]
  },
  {
   "cell_type": "code",
   "execution_count": null,
   "metadata": {
    "colab": {},
    "colab_type": "code",
    "id": "R11rCl34hoF3"
   },
   "outputs": [],
   "source": [
    "df.head()"
   ]
  },
  {
   "cell_type": "markdown",
   "metadata": {
    "colab_type": "text",
    "id": "cWdGoo_thp3F"
   },
   "source": [
    "전부 동일한 값이 추가 되면서, column도 추가된 것을 보실 수 있습니다."
   ]
  },
  {
   "cell_type": "markdown",
   "metadata": {
    "colab_type": "text",
    "id": "qK2bcVjnhpwd"
   },
   "source": [
    "만약, 값을 변경하고 싶다면, loc 함수를 활용해서 변경해 줄 수 있겠죠?"
   ]
  },
  {
   "cell_type": "code",
   "execution_count": null,
   "metadata": {
    "colab": {},
    "colab_type": "code",
    "id": "hwdKo4AofMMh"
   },
   "outputs": [],
   "source": [
    "df.loc[ df['이름'] == '지드래곤' , '국적'] = 'korea'"
   ]
  },
  {
   "cell_type": "code",
   "execution_count": null,
   "metadata": {
    "colab": {},
    "colab_type": "code",
    "id": "zI3wGgKcfMFv"
   },
   "outputs": [],
   "source": [
    "df.head()"
   ]
  },
  {
   "cell_type": "markdown",
   "metadata": {
    "colab_type": "text",
    "id": "6wxsIUEsiMW_"
   },
   "source": [
    "## 3. 통계값 다루기"
   ]
  },
  {
   "cell_type": "code",
   "execution_count": null,
   "metadata": {
    "colab": {},
    "colab_type": "code",
    "id": "xKuRiZ7xL7N7"
   },
   "outputs": [],
   "source": [
    "df = pd.read_csv('https://bit.ly/ds-korean-idol')"
   ]
  },
  {
   "cell_type": "markdown",
   "metadata": {
    "colab_type": "text",
    "id": "QwJWYq0sM17z"
   },
   "source": [
    "통계값은 data type이 float나 int형 인 column을 다룹니다"
   ]
  },
  {
   "cell_type": "code",
   "execution_count": null,
   "metadata": {
    "colab": {},
    "colab_type": "code",
    "id": "eXIQtJuMMOjp"
   },
   "outputs": [],
   "source": [
    "df.head()"
   ]
  },
  {
   "cell_type": "code",
   "execution_count": null,
   "metadata": {
    "colab": {},
    "colab_type": "code",
    "id": "EK8esgUNMkda"
   },
   "outputs": [],
   "source": [
    "df.info()"
   ]
  },
  {
   "cell_type": "code",
   "execution_count": null,
   "metadata": {
    "colab": {},
    "colab_type": "code",
    "id": "D7ZBkw4GM28R"
   },
   "outputs": [],
   "source": [
    "df.describe()"
   ]
  },
  {
   "cell_type": "markdown",
   "metadata": {
    "colab_type": "text",
    "id": "nJJYmC0iiXBQ"
   },
   "source": [
    "### 3-1. min(최소값), max(최대값)"
   ]
  },
  {
   "cell_type": "markdown",
   "metadata": {
    "colab_type": "text",
    "id": "wKwVqTiNMwON"
   },
   "source": [
    "통계값은 data type이 float나 int형 인 column을 다룹니다"
   ]
  },
  {
   "cell_type": "code",
   "execution_count": null,
   "metadata": {
    "colab": {},
    "colab_type": "code",
    "id": "8Z2jUrkGiXF_"
   },
   "outputs": [],
   "source": [
    "df['키'].min()"
   ]
  },
  {
   "cell_type": "code",
   "execution_count": null,
   "metadata": {
    "colab": {},
    "colab_type": "code",
    "id": "dtWNwAREiXQ1"
   },
   "outputs": [],
   "source": [
    "df['키'].max()"
   ]
  },
  {
   "cell_type": "markdown",
   "metadata": {
    "colab_type": "text",
    "id": "4rmemM--iXSG"
   },
   "source": [
    "### 3-2. sum (합계), mean (평균)"
   ]
  },
  {
   "cell_type": "code",
   "execution_count": null,
   "metadata": {
    "colab": {},
    "colab_type": "code",
    "id": "MxyCeyijP8ie"
   },
   "outputs": [],
   "source": [
    "df['키'].sum()"
   ]
  },
  {
   "cell_type": "code",
   "execution_count": null,
   "metadata": {
    "colab": {},
    "colab_type": "code",
    "id": "kDNPVpbsiXW-"
   },
   "outputs": [],
   "source": [
    "df['키'].mean()"
   ]
  },
  {
   "cell_type": "markdown",
   "metadata": {
    "colab_type": "text",
    "id": "sm2egqSFNHKQ"
   },
   "source": [
    "### 3-3. var, variance(분산) / std, standard deviation (표준 편차)"
   ]
  },
  {
   "cell_type": "markdown",
   "metadata": {
    "colab_type": "text",
    "id": "kZNoa-hxNZxT"
   },
   "source": [
    "* 분산과 표준편차는 데이터가 **평균으로부터 얼마나 떨어져 있는지 정도**를 나타냅니다.\n",
    "* 분산은 **(데이터 - 평균) ** 2 을 모두 합한 값** / n\n",
    "* 표준편차는 **분산의 루트**"
   ]
  },
  {
   "cell_type": "code",
   "execution_count": 7,
   "metadata": {
    "colab": {},
    "colab_type": "code",
    "id": "5Gb7DxkeNxMI"
   },
   "outputs": [],
   "source": [
    "import numpy as np"
   ]
  },
  {
   "cell_type": "code",
   "execution_count": 8,
   "metadata": {
    "colab": {},
    "colab_type": "code",
    "id": "Soxiy1PVNqE5"
   },
   "outputs": [],
   "source": [
    "data_01 = np.array([1, 3, 5, 7, 9])\n",
    "data_02 = np.array([3, 4, 5, 6, 7])"
   ]
  },
  {
   "cell_type": "code",
   "execution_count": 9,
   "metadata": {
    "colab": {},
    "colab_type": "code",
    "id": "ro2C5CTxODLz"
   },
   "outputs": [
    {
     "data": {
      "text/plain": [
       "2.8284271247461903"
      ]
     },
     "execution_count": 9,
     "metadata": {},
     "output_type": "execute_result"
    }
   ],
   "source": [
    "#data_01의 표준편차\n",
    "np.sqrt(((1-5)**2 + (3-5)**2 + (5-5)**2 + (7-5)**2 + (9-5)**2 ) / 5)"
   ]
  },
  {
   "cell_type": "code",
   "execution_count": 10,
   "metadata": {
    "colab": {},
    "colab_type": "code",
    "id": "J4bDUkx1Npz1"
   },
   "outputs": [
    {
     "data": {
      "text/plain": [
       "5.0"
      ]
     },
     "execution_count": 10,
     "metadata": {},
     "output_type": "execute_result"
    }
   ],
   "source": [
    "data_01.mean()"
   ]
  },
  {
   "cell_type": "code",
   "execution_count": 11,
   "metadata": {
    "colab": {},
    "colab_type": "code",
    "id": "pF19ky3oN7TT"
   },
   "outputs": [
    {
     "data": {
      "text/plain": [
       "5.0"
      ]
     },
     "execution_count": 11,
     "metadata": {},
     "output_type": "execute_result"
    }
   ],
   "source": [
    "data_02.mean()"
   ]
  },
  {
   "cell_type": "code",
   "execution_count": 12,
   "metadata": {
    "colab": {},
    "colab_type": "code",
    "id": "aL7mj6O4O1C6"
   },
   "outputs": [
    {
     "data": {
      "text/plain": [
       "(8.0, 2.0)"
      ]
     },
     "execution_count": 12,
     "metadata": {},
     "output_type": "execute_result"
    }
   ],
   "source": [
    "data_01.var(), data_02.var()"
   ]
  },
  {
   "cell_type": "code",
   "execution_count": 13,
   "metadata": {
    "colab": {},
    "colab_type": "code",
    "id": "i5wDFzM3O2zy"
   },
   "outputs": [
    {
     "data": {
      "text/plain": [
       "(2.8284271247461903, 1.4142135623730951)"
      ]
     },
     "execution_count": 13,
     "metadata": {},
     "output_type": "execute_result"
    }
   ],
   "source": [
    "np.sqrt(data_01.var()), np.sqrt(data_02.var())"
   ]
  },
  {
   "cell_type": "code",
   "execution_count": 14,
   "metadata": {
    "colab": {},
    "colab_type": "code",
    "id": "QmX9zxNxN-w1"
   },
   "outputs": [
    {
     "data": {
      "text/plain": [
       "(2.8284271247461903, 1.4142135623730951)"
      ]
     },
     "execution_count": 14,
     "metadata": {},
     "output_type": "execute_result"
    }
   ],
   "source": [
    "data_01.std(), data_02.std()"
   ]
  },
  {
   "cell_type": "markdown",
   "metadata": {
    "colab_type": "text",
    "id": "X3Bj4FATPDV7"
   },
   "source": [
    "주로 표준편자 (std)를 많이 사용하며, **데이터가 평균으로부터 얼마나 퍼져있는지 정도를 나타내는 지표라고 이해**하시면 됩니다."
   ]
  },
  {
   "cell_type": "code",
   "execution_count": null,
   "metadata": {
    "colab": {},
    "colab_type": "code",
    "id": "bAvvUdFhPDNA"
   },
   "outputs": [],
   "source": [
    "df['키'].var()"
   ]
  },
  {
   "cell_type": "code",
   "execution_count": null,
   "metadata": {
    "colab": {},
    "colab_type": "code",
    "id": "VS62iHleiXh0"
   },
   "outputs": [],
   "source": [
    "df['키'].std()"
   ]
  },
  {
   "cell_type": "markdown",
   "metadata": {
    "colab_type": "text",
    "id": "wShdK-FwiXjw"
   },
   "source": [
    "### 3-4. 갯수를 세는 count"
   ]
  },
  {
   "cell_type": "code",
   "execution_count": null,
   "metadata": {
    "colab": {},
    "colab_type": "code",
    "id": "VkbaDy-IiXcc"
   },
   "outputs": [],
   "source": [
    "df['키'].count()"
   ]
  },
  {
   "cell_type": "markdown",
   "metadata": {
    "colab_type": "text",
    "id": "UoCL5mCaS15c"
   },
   "source": [
    "### 3.5. 중앙값"
   ]
  },
  {
   "cell_type": "code",
   "execution_count": null,
   "metadata": {
    "colab": {},
    "colab_type": "code",
    "id": "xNCspptqOk0f"
   },
   "outputs": [],
   "source": [
    "df['키'].median()"
   ]
  },
  {
   "cell_type": "markdown",
   "metadata": {
    "colab_type": "text",
    "id": "9q2AcpGZOqBM"
   },
   "source": [
    "### 3.6. 최빈값 (mode)"
   ]
  },
  {
   "cell_type": "code",
   "execution_count": null,
   "metadata": {
    "colab": {},
    "colab_type": "code",
    "id": "pFUyNNo2O891"
   },
   "outputs": [],
   "source": [
    "df['키'].mode()"
   ]
  },
  {
   "cell_type": "markdown",
   "metadata": {
    "colab_type": "text",
    "id": "52cqG2daS1_8"
   },
   "source": [
    "## 4. 피벗테이블 (pivot_table)"
   ]
  },
  {
   "cell_type": "markdown",
   "metadata": {
    "colab_type": "text",
    "id": "Ta89HeCUS1xa"
   },
   "source": [
    "* 피벗테이블은 엑셀의 피벗테이블과 동일합니다.\n",
    "* 데이터 열 중에서 **두 개의 열을 각각 행 인덱스, 열 인덱스로 사용**하여 데이터를 조회하여 펼쳐놓은 것을 의미합니다.\n",
    "* 왼쪽에 나타나는 인덱스를 **행 인덱스, 상단에 나타나는 인덱스를 열 인덱스**라고 부릅니다."
   ]
  },
  {
   "cell_type": "code",
   "execution_count": 4,
   "metadata": {
    "colab": {},
    "colab_type": "code",
    "id": "JvOqxSxkQAty"
   },
   "outputs": [
    {
     "data": {
      "text/html": [
       "<div>\n",
       "<style scoped>\n",
       "    .dataframe tbody tr th:only-of-type {\n",
       "        vertical-align: middle;\n",
       "    }\n",
       "\n",
       "    .dataframe tbody tr th {\n",
       "        vertical-align: top;\n",
       "    }\n",
       "\n",
       "    .dataframe thead th {\n",
       "        text-align: right;\n",
       "    }\n",
       "</style>\n",
       "<table border=\"1\" class=\"dataframe\">\n",
       "  <thead>\n",
       "    <tr style=\"text-align: right;\">\n",
       "      <th></th>\n",
       "      <th>이름</th>\n",
       "      <th>그룹</th>\n",
       "      <th>소속사</th>\n",
       "      <th>성별</th>\n",
       "      <th>생년월일</th>\n",
       "      <th>키</th>\n",
       "      <th>혈액형</th>\n",
       "      <th>브랜드평판지수</th>\n",
       "    </tr>\n",
       "  </thead>\n",
       "  <tbody>\n",
       "    <tr>\n",
       "      <th>0</th>\n",
       "      <td>지민</td>\n",
       "      <td>방탄소년단</td>\n",
       "      <td>빅히트</td>\n",
       "      <td>남자</td>\n",
       "      <td>1995-10-13</td>\n",
       "      <td>173.6</td>\n",
       "      <td>A</td>\n",
       "      <td>10523260</td>\n",
       "    </tr>\n",
       "    <tr>\n",
       "      <th>1</th>\n",
       "      <td>지드래곤</td>\n",
       "      <td>빅뱅</td>\n",
       "      <td>YG</td>\n",
       "      <td>남자</td>\n",
       "      <td>1988-08-18</td>\n",
       "      <td>177.0</td>\n",
       "      <td>A</td>\n",
       "      <td>9916947</td>\n",
       "    </tr>\n",
       "    <tr>\n",
       "      <th>2</th>\n",
       "      <td>강다니엘</td>\n",
       "      <td>NaN</td>\n",
       "      <td>커넥트</td>\n",
       "      <td>남자</td>\n",
       "      <td>1996-12-10</td>\n",
       "      <td>180.0</td>\n",
       "      <td>A</td>\n",
       "      <td>8273745</td>\n",
       "    </tr>\n",
       "    <tr>\n",
       "      <th>3</th>\n",
       "      <td>뷔</td>\n",
       "      <td>방탄소년단</td>\n",
       "      <td>빅히트</td>\n",
       "      <td>남자</td>\n",
       "      <td>1995-12-30</td>\n",
       "      <td>178.0</td>\n",
       "      <td>AB</td>\n",
       "      <td>8073501</td>\n",
       "    </tr>\n",
       "    <tr>\n",
       "      <th>4</th>\n",
       "      <td>화사</td>\n",
       "      <td>마마무</td>\n",
       "      <td>RBW</td>\n",
       "      <td>여자</td>\n",
       "      <td>1995-07-23</td>\n",
       "      <td>162.1</td>\n",
       "      <td>A</td>\n",
       "      <td>7650928</td>\n",
       "    </tr>\n",
       "  </tbody>\n",
       "</table>\n",
       "</div>"
      ],
      "text/plain": [
       "     이름     그룹  소속사  성별        생년월일      키 혈액형   브랜드평판지수\n",
       "0    지민  방탄소년단  빅히트  남자  1995-10-13  173.6   A  10523260\n",
       "1  지드래곤     빅뱅   YG  남자  1988-08-18  177.0   A   9916947\n",
       "2  강다니엘    NaN  커넥트  남자  1996-12-10  180.0   A   8273745\n",
       "3     뷔  방탄소년단  빅히트  남자  1995-12-30  178.0  AB   8073501\n",
       "4    화사    마마무  RBW  여자  1995-07-23  162.1   A   7650928"
      ]
     },
     "execution_count": 4,
     "metadata": {},
     "output_type": "execute_result"
    }
   ],
   "source": [
    "df.head()"
   ]
  },
  {
   "cell_type": "code",
   "execution_count": 5,
   "metadata": {
    "colab": {},
    "colab_type": "code",
    "id": "rfQlvojRRao9"
   },
   "outputs": [
    {
     "data": {
      "text/html": [
       "<div>\n",
       "<style scoped>\n",
       "    .dataframe tbody tr th:only-of-type {\n",
       "        vertical-align: middle;\n",
       "    }\n",
       "\n",
       "    .dataframe tbody tr th {\n",
       "        vertical-align: top;\n",
       "    }\n",
       "\n",
       "    .dataframe thead th {\n",
       "        text-align: right;\n",
       "    }\n",
       "</style>\n",
       "<table border=\"1\" class=\"dataframe\">\n",
       "  <thead>\n",
       "    <tr style=\"text-align: right;\">\n",
       "      <th>혈액형</th>\n",
       "      <th>A</th>\n",
       "      <th>AB</th>\n",
       "      <th>B</th>\n",
       "      <th>O</th>\n",
       "    </tr>\n",
       "    <tr>\n",
       "      <th>소속사</th>\n",
       "      <th></th>\n",
       "      <th></th>\n",
       "      <th></th>\n",
       "      <th></th>\n",
       "    </tr>\n",
       "  </thead>\n",
       "  <tbody>\n",
       "    <tr>\n",
       "      <th>RBW</th>\n",
       "      <td>162.1</td>\n",
       "      <td>NaN</td>\n",
       "      <td>NaN</td>\n",
       "      <td>NaN</td>\n",
       "    </tr>\n",
       "    <tr>\n",
       "      <th>YG</th>\n",
       "      <td>177.0</td>\n",
       "      <td>NaN</td>\n",
       "      <td>NaN</td>\n",
       "      <td>NaN</td>\n",
       "    </tr>\n",
       "    <tr>\n",
       "      <th>빅히트</th>\n",
       "      <td>175.8</td>\n",
       "      <td>178.0</td>\n",
       "      <td>NaN</td>\n",
       "      <td>176.60</td>\n",
       "    </tr>\n",
       "    <tr>\n",
       "      <th>스타크루이엔티</th>\n",
       "      <td>167.1</td>\n",
       "      <td>NaN</td>\n",
       "      <td>NaN</td>\n",
       "      <td>NaN</td>\n",
       "    </tr>\n",
       "    <tr>\n",
       "      <th>커넥트</th>\n",
       "      <td>180.0</td>\n",
       "      <td>NaN</td>\n",
       "      <td>NaN</td>\n",
       "      <td>NaN</td>\n",
       "    </tr>\n",
       "    <tr>\n",
       "      <th>판타지오</th>\n",
       "      <td>NaN</td>\n",
       "      <td>NaN</td>\n",
       "      <td>183.0</td>\n",
       "      <td>NaN</td>\n",
       "    </tr>\n",
       "    <tr>\n",
       "      <th>플레디스</th>\n",
       "      <td>NaN</td>\n",
       "      <td>175.0</td>\n",
       "      <td>NaN</td>\n",
       "      <td>179.15</td>\n",
       "    </tr>\n",
       "  </tbody>\n",
       "</table>\n",
       "</div>"
      ],
      "text/plain": [
       "혈액형          A     AB      B       O\n",
       "소속사                                 \n",
       "RBW      162.1    NaN    NaN     NaN\n",
       "YG       177.0    NaN    NaN     NaN\n",
       "빅히트      175.8  178.0    NaN  176.60\n",
       "스타크루이엔티  167.1    NaN    NaN     NaN\n",
       "커넥트      180.0    NaN    NaN     NaN\n",
       "판타지오       NaN    NaN  183.0     NaN\n",
       "플레디스       NaN  175.0    NaN  179.15"
      ]
     },
     "execution_count": 5,
     "metadata": {},
     "output_type": "execute_result"
    }
   ],
   "source": [
    "pd.pivot_table(df, index='소속사', columns='혈액형', values='키')"
   ]
  },
  {
   "cell_type": "code",
   "execution_count": null,
   "metadata": {
    "colab": {},
    "colab_type": "code",
    "id": "WKOav4RlRDN6"
   },
   "outputs": [],
   "source": [
    "# index는 행 인덱스\n",
    "# columns는 열 인덱스\n",
    "# values는 조회하고 싶은 값\n",
    "pd.pivot_table(df, index='소속사', columns='혈액형', values='키')"
   ]
  },
  {
   "cell_type": "code",
   "execution_count": null,
   "metadata": {
    "colab": {},
    "colab_type": "code",
    "id": "ApcCRp5ARDGQ"
   },
   "outputs": [],
   "source": [
    "# aggfunc에는 추가 계산 옵션 (np.sum, np.mean) - 기본값은 평균\n",
    "pd.pivot_table(df, index='그룹', columns='혈액형', values='브랜드평판지수', aggfunc=np.mean)"
   ]
  },
  {
   "cell_type": "markdown",
   "metadata": {
    "colab_type": "text",
    "id": "_RSyhj7EQAvY"
   },
   "source": [
    "## 5. GroupBy (그룹으로 묶어 보기)"
   ]
  },
  {
   "cell_type": "markdown",
   "metadata": {
    "colab_type": "text",
    "id": "zPP5YmoYQQz2"
   },
   "source": [
    "* groupby는 데이터를 **그룹으로 묶어 분석**할 때 활용합니다.\n",
    "* **소속사**별 키의 평균, **성별** 키의 평균 등 특정, 그룹별 통계 및 데이터의 성질을 확인하고자 할 때 활용합니다."
   ]
  },
  {
   "cell_type": "code",
   "execution_count": null,
   "metadata": {
    "colab": {},
    "colab_type": "code",
    "id": "iQ2t7pDfQKxi"
   },
   "outputs": [],
   "source": [
    "df.head()"
   ]
  },
  {
   "cell_type": "code",
   "execution_count": null,
   "metadata": {
    "colab": {},
    "colab_type": "code",
    "id": "vL1Hk258UZUu"
   },
   "outputs": [],
   "source": [
    "df.groupby('소속사')"
   ]
  },
  {
   "cell_type": "markdown",
   "metadata": {
    "colab_type": "text",
    "id": "96eL0Rd8Uc2e"
   },
   "source": [
    "groupby와 함께 \n",
    "\n",
    "* count() - 갯수\n",
    "* sum() - 합계\n",
    "* mean() - 평균\n",
    "* var() - 분산\n",
    "* std() - 표준편차\n",
    "* min()/max() - 최소값, 최대값\n",
    "\n"
   ]
  },
  {
   "cell_type": "code",
   "execution_count": null,
   "metadata": {
    "colab": {},
    "colab_type": "code",
    "id": "QfXPD3bHQA1c"
   },
   "outputs": [],
   "source": [
    "df.groupby('소속사').count()"
   ]
  },
  {
   "cell_type": "markdown",
   "metadata": {
    "colab_type": "text",
    "id": "8buEDB_EUT5k"
   },
   "source": [
    "산술 통계는 자동으로 산술통계가 가능한 열만 출력됩니다."
   ]
  },
  {
   "cell_type": "code",
   "execution_count": null,
   "metadata": {
    "colab": {},
    "colab_type": "code",
    "id": "fs30XYJGQA-4"
   },
   "outputs": [],
   "source": [
    "df.groupby('그룹').mean()"
   ]
  },
  {
   "cell_type": "code",
   "execution_count": null,
   "metadata": {
    "colab": {},
    "colab_type": "code",
    "id": "vNa7oubZQA7G"
   },
   "outputs": [],
   "source": [
    "df.groupby('성별').sum()"
   ]
  },
  {
   "cell_type": "markdown",
   "metadata": {
    "colab_type": "text",
    "id": "akiXofI3QAlE"
   },
   "source": [
    "특정 열만 출력하고 싶다면?"
   ]
  },
  {
   "cell_type": "code",
   "execution_count": null,
   "metadata": {
    "colab": {},
    "colab_type": "code",
    "id": "6yxaNxKcTJ2C"
   },
   "outputs": [],
   "source": [
    "df.groupby('혈액형')['키'].mean()"
   ]
  },
  {
   "cell_type": "markdown",
   "metadata": {
    "colab_type": "text",
    "id": "784YxwLKVOHe"
   },
   "source": [
    "## 6. Multi-Index(복합 인덱스)"
   ]
  },
  {
   "cell_type": "markdown",
   "metadata": {
    "colab_type": "text",
    "id": "MF_RYOWqXCbP"
   },
   "source": [
    "### 6-1. Multi-Index 적용"
   ]
  },
  {
   "cell_type": "markdown",
   "metadata": {
    "colab_type": "text",
    "id": "xtfezNZdVlPY"
   },
   "source": [
    "행 인덱스를 복합적으로 구성하고 싶은 경우는 인덱스를 리스트로 만들어 줍니다."
   ]
  },
  {
   "cell_type": "code",
   "execution_count": null,
   "metadata": {
    "colab": {},
    "colab_type": "code",
    "id": "AdWWcFC2VOJW"
   },
   "outputs": [],
   "source": [
    "df.groupby(['혈액형', '성별']).mean()"
   ]
  },
  {
   "cell_type": "markdown",
   "metadata": {
    "colab_type": "text",
    "id": "mwNcI_uLW6in"
   },
   "source": [
    "### 6-2. Multi-Index 데이터 프레임을 피벗 테이블로 변환"
   ]
  },
  {
   "cell_type": "markdown",
   "metadata": {
    "colab_type": "text",
    "id": "jvxspk5wWYyy"
   },
   "source": [
    "Multi-Index로 된 데이터프레임을 피벗테이블 형태로 다시 변환해 줄 수 있습니다."
   ]
  },
  {
   "cell_type": "code",
   "execution_count": null,
   "metadata": {
    "colab": {},
    "colab_type": "code",
    "id": "ja4_Byq4VOR0"
   },
   "outputs": [],
   "source": [
    "df2 = df.groupby(['혈액형', '성별']).mean()"
   ]
  },
  {
   "cell_type": "code",
   "execution_count": null,
   "metadata": {
    "colab": {},
    "colab_type": "code",
    "id": "nUvs_JXdVOUy"
   },
   "outputs": [],
   "source": [
    "df2"
   ]
  },
  {
   "cell_type": "code",
   "execution_count": null,
   "metadata": {
    "colab": {},
    "colab_type": "code",
    "id": "T6dCIfQOVOk3"
   },
   "outputs": [],
   "source": [
    "df2.unstack('혈액형')"
   ]
  },
  {
   "cell_type": "code",
   "execution_count": null,
   "metadata": {
    "colab": {},
    "colab_type": "code",
    "id": "0gOzRrkHVObv"
   },
   "outputs": [],
   "source": [
    "df2.unstack('성별')"
   ]
  },
  {
   "cell_type": "markdown",
   "metadata": {
    "colab_type": "text",
    "id": "z0GukEDMW5D2"
   },
   "source": [
    "### 6-3. 인덱스 초기화 (reset_index)"
   ]
  },
  {
   "cell_type": "markdown",
   "metadata": {
    "colab_type": "text",
    "id": "9yyz_rawWrO0"
   },
   "source": [
    "reset_index() 는 Multi-Index로 구성된 데이터 프레임의 **인덱스를 초기화**해 줍니다."
   ]
  },
  {
   "cell_type": "code",
   "execution_count": null,
   "metadata": {
    "colab": {},
    "colab_type": "code",
    "id": "KTAYxNIYUW4j"
   },
   "outputs": [],
   "source": [
    "df2"
   ]
  },
  {
   "cell_type": "code",
   "execution_count": null,
   "metadata": {
    "colab": {},
    "colab_type": "code",
    "id": "sVpEdDeqWmCq"
   },
   "outputs": [],
   "source": [
    "df2 = df2.reset_index()"
   ]
  },
  {
   "cell_type": "code",
   "execution_count": null,
   "metadata": {
    "colab": {},
    "colab_type": "code",
    "id": "-S_8sHfdVNza"
   },
   "outputs": [],
   "source": [
    "df2"
   ]
  },
  {
   "cell_type": "code",
   "execution_count": null,
   "metadata": {},
   "outputs": [],
   "source": []
  }
 ],
 "metadata": {
  "colab": {
   "collapsed_sections": [],
   "name": "ch01-part10-실습예제3-해설",
   "provenance": []
  },
  "kernelspec": {
   "display_name": "Python 3",
   "language": "python",
   "name": "python3"
  },
  "language_info": {
   "codemirror_mode": {
    "name": "ipython",
    "version": 3
   },
   "file_extension": ".py",
   "mimetype": "text/x-python",
   "name": "python",
   "nbconvert_exporter": "python",
   "pygments_lexer": "ipython3",
   "version": "3.7.9"
  }
 },
 "nbformat": 4,
 "nbformat_minor": 1
}
