{
 "cells": [
  {
   "cell_type": "markdown",
   "metadata": {
    "colab_type": "text",
    "id": "3mRYTNGoxRxG"
   },
   "source": [
    "## 실습에 사용할 예제 파일"
   ]
  },
  {
   "cell_type": "markdown",
   "metadata": {
    "colab_type": "text",
    "id": "lXUT8XqPxRqI"
   },
   "source": [
    "[국내 아이돌 평판지수 (csv)](http://bit.ly/ds-korean-idol)"
   ]
  },
  {
   "cell_type": "code",
   "execution_count": null,
   "metadata": {
    "colab": {},
    "colab_type": "code",
    "id": "83eTZxB_xPzR"
   },
   "outputs": [],
   "source": [
    "import pandas as pd"
   ]
  },
  {
   "cell_type": "markdown",
   "metadata": {
    "colab_type": "text",
    "id": "v2wx_FBF0--v"
   },
   "source": [
    "## 1. 파일 읽어오기 (csv)"
   ]
  },
  {
   "cell_type": "code",
   "execution_count": null,
   "metadata": {
    "colab": {},
    "colab_type": "code",
    "id": "bPKhlsW7xrjN"
   },
   "outputs": [],
   "source": [
    "df = pd.read_csv('http://bit.ly/ds-korean-idol')"
   ]
  },
  {
   "cell_type": "code",
   "execution_count": null,
   "metadata": {
    "colab": {
     "base_uri": "https://localhost:8080/",
     "height": 514
    },
    "colab_type": "code",
    "id": "8KOEwu0dxrqA",
    "outputId": "85e2f378-e188-4988-bf42-d8698192b3be"
   },
   "outputs": [],
   "source": [
    "df"
   ]
  },
  {
   "cell_type": "markdown",
   "metadata": {
    "colab_type": "text",
    "id": "7CAzsaoU1EoR"
   },
   "source": [
    "## 2. 기본 정보 알아보기 (index, column, info)"
   ]
  },
  {
   "cell_type": "markdown",
   "metadata": {
    "colab_type": "text",
    "id": "PqY_rMFR03rc"
   },
   "source": [
    "### 2-1. column(열) 출력하기"
   ]
  },
  {
   "cell_type": "code",
   "execution_count": null,
   "metadata": {
    "colab": {
     "base_uri": "https://localhost:8080/",
     "height": 35
    },
    "colab_type": "code",
    "id": "KXxeej3M07Dr",
    "outputId": "3c32242e-3a58-44bb-c3ba-24b77ab68490"
   },
   "outputs": [],
   "source": [
    "df.columns"
   ]
  },
  {
   "cell_type": "markdown",
   "metadata": {
    "colab_type": "text",
    "id": "jK0WzXh51LT8"
   },
   "source": [
    "2-2. column(열) 이름 재정의하기"
   ]
  },
  {
   "cell_type": "code",
   "execution_count": null,
   "metadata": {
    "colab": {},
    "colab_type": "code",
    "id": "izTKWiGj1LF0"
   },
   "outputs": [],
   "source": [
    "new_col = ['name', '그룹', '소속사', '성별', '생년월일', '키', '혈액형', '브랜드평판지수']"
   ]
  },
  {
   "cell_type": "code",
   "execution_count": null,
   "metadata": {
    "colab": {},
    "colab_type": "code",
    "id": "qJfedwHP1Sqr"
   },
   "outputs": [],
   "source": [
    "df.columns = new_col"
   ]
  },
  {
   "cell_type": "code",
   "execution_count": null,
   "metadata": {
    "colab": {
     "base_uri": "https://localhost:8080/",
     "height": 35
    },
    "colab_type": "code",
    "id": "AZf5wHXX1Svk",
    "outputId": "f40ad498-5887-41c3-8830-824cb68eebec"
   },
   "outputs": [],
   "source": [
    "df.columns"
   ]
  },
  {
   "cell_type": "code",
   "execution_count": null,
   "metadata": {
    "colab": {
     "base_uri": "https://localhost:8080/",
     "height": 514
    },
    "colab_type": "code",
    "id": "vsdv2YQS1Szt",
    "outputId": "8b93001c-9062-4fd3-d168-58283a041d62"
   },
   "outputs": [],
   "source": [
    "df"
   ]
  },
  {
   "cell_type": "markdown",
   "metadata": {
    "colab_type": "text",
    "id": "rhjqYzyj08as"
   },
   "source": [
    "### 2-2. index(행) 출력하기"
   ]
  },
  {
   "cell_type": "code",
   "execution_count": null,
   "metadata": {
    "colab": {
     "base_uri": "https://localhost:8080/",
     "height": 35
    },
    "colab_type": "code",
    "id": "aRanoPuN07LL",
    "outputId": "4b39a566-26e4-4f48-da39-0b6fc99831c8"
   },
   "outputs": [],
   "source": [
    "df.index"
   ]
  },
  {
   "cell_type": "markdown",
   "metadata": {
    "colab_type": "text",
    "id": "tA2wgFx91QFh"
   },
   "source": [
    "### 2-3. info 는 기본적인 row(행)의 정보와 데이터 타입을 알려줍니다."
   ]
  },
  {
   "cell_type": "markdown",
   "metadata": {
    "colab_type": "text",
    "id": "NdIIHQuY1qQj"
   },
   "source": [
    "**tip.** info 메소드는 주로 빠진 값 (null 값)과 데이터 타입을 볼 때 활용합니다."
   ]
  },
  {
   "cell_type": "code",
   "execution_count": null,
   "metadata": {
    "colab": {
     "base_uri": "https://localhost:8080/",
     "height": 251
    },
    "colab_type": "code",
    "id": "E1bf_wogyC0_",
    "outputId": "dbef9bf6-b8e7-46b9-c073-c0a2dd74e24c"
   },
   "outputs": [],
   "source": [
    "df.info()"
   ]
  },
  {
   "cell_type": "markdown",
   "metadata": {
    "colab_type": "text",
    "id": "wF5VB1uz0bYO"
   },
   "source": [
    "## 3. 통계 정보 알아보기 (describe)"
   ]
  },
  {
   "cell_type": "code",
   "execution_count": null,
   "metadata": {
    "colab": {
     "base_uri": "https://localhost:8080/",
     "height": 297
    },
    "colab_type": "code",
    "id": "vODrlPaYGn7e",
    "outputId": "1e7ccd84-d2f9-412a-ded2-24e508312685"
   },
   "outputs": [],
   "source": [
    "df.describe()"
   ]
  },
  {
   "cell_type": "markdown",
   "metadata": {
    "colab_type": "text",
    "id": "HalC3A21G9BT"
   },
   "source": [
    "## 4. 형태(shape) 알아보기"
   ]
  },
  {
   "cell_type": "markdown",
   "metadata": {
    "colab_type": "text",
    "id": "mf6UAeKmHC1s"
   },
   "source": [
    "* shape는 tuple 형태로 반환되며, 첫번째는 row, 두번째는 column의 숫자를 의미합니다"
   ]
  },
  {
   "cell_type": "code",
   "execution_count": null,
   "metadata": {
    "colab": {
     "base_uri": "https://localhost:8080/",
     "height": 35
    },
    "colab_type": "code",
    "id": "htyQNfRyHBFW",
    "outputId": "485279df-a433-4773-8c46-40795cd4da68"
   },
   "outputs": [],
   "source": [
    "df.shape"
   ]
  },
  {
   "cell_type": "code",
   "execution_count": null,
   "metadata": {
    "colab": {
     "base_uri": "https://localhost:8080/",
     "height": 514
    },
    "colab_type": "code",
    "id": "WQ-5n_1AHBur",
    "outputId": "99bea755-a8e7-4a72-fb37-6d81c94e5953"
   },
   "outputs": [],
   "source": [
    "df"
   ]
  },
  {
   "cell_type": "markdown",
   "metadata": {
    "colab_type": "text",
    "id": "7RZl0n3ALVUU"
   },
   "source": [
    "## 5. 상위 5개, 하위 5개의 정보만 보기"
   ]
  },
  {
   "cell_type": "markdown",
   "metadata": {
    "colab_type": "text",
    "id": "pn7EWwoELVOM"
   },
   "source": [
    "가장 자주쓰는 메소드 중 하나인 head(), tail()입니다.\n",
    "\n",
    "* head()   상위 5개 row 출력\n",
    "* tail()   하위 5개 row 출력\n",
    "* head(3)  상위 3개 row 출력\n",
    "* tail(2)  하위 2개 row 출력"
   ]
  },
  {
   "cell_type": "code",
   "execution_count": null,
   "metadata": {
    "colab": {
     "base_uri": "https://localhost:8080/",
     "height": 204
    },
    "colab_type": "code",
    "id": "V4XMCm7HLVEq",
    "outputId": "03151454-9c97-4887-b5bc-62d6da4b780b"
   },
   "outputs": [],
   "source": [
    "df.head()"
   ]
  },
  {
   "cell_type": "code",
   "execution_count": null,
   "metadata": {
    "colab": {
     "base_uri": "https://localhost:8080/",
     "height": 204
    },
    "colab_type": "code",
    "id": "ixHc6k45MAHq",
    "outputId": "a4d8f03f-0e6f-4c69-b05f-046365c75cee"
   },
   "outputs": [],
   "source": [
    "df.tail()"
   ]
  },
  {
   "cell_type": "code",
   "execution_count": null,
   "metadata": {
    "colab": {
     "base_uri": "https://localhost:8080/",
     "height": 142
    },
    "colab_type": "code",
    "id": "eIdPEDC0MAM4",
    "outputId": "c4b36fa4-f5ce-45f9-b5fc-a8b143183ec4"
   },
   "outputs": [],
   "source": [
    "df.head(3)"
   ]
  },
  {
   "cell_type": "code",
   "execution_count": null,
   "metadata": {
    "colab": {
     "base_uri": "https://localhost:8080/",
     "height": 111
    },
    "colab_type": "code",
    "id": "QK5UrIdbMECT",
    "outputId": "18bbef39-b2c3-49e5-eaf7-1845165aa6bc"
   },
   "outputs": [],
   "source": [
    "df.tail(2)"
   ]
  },
  {
   "cell_type": "markdown",
   "metadata": {
    "colab_type": "text",
    "id": "kdEHzijlMEHL"
   },
   "source": [
    "## 7. 정렬하기 "
   ]
  },
  {
   "cell_type": "markdown",
   "metadata": {
    "colab_type": "text",
    "id": "J_40llLeNQmb"
   },
   "source": [
    "### 7-1. 오름차순 정렬 (default)"
   ]
  },
  {
   "cell_type": "code",
   "execution_count": null,
   "metadata": {
    "colab": {
     "base_uri": "https://localhost:8080/",
     "height": 514
    },
    "colab_type": "code",
    "id": "WgM3sO3QIBb1",
    "outputId": "5596a265-2203-4571-ba3f-b9b877ec738f"
   },
   "outputs": [],
   "source": [
    "df.sort_index()"
   ]
  },
  {
   "cell_type": "markdown",
   "metadata": {
    "colab_type": "text",
    "id": "VsghokrMNMWI"
   },
   "source": [
    "### 7-2. 내림차순 index 정렬"
   ]
  },
  {
   "cell_type": "code",
   "execution_count": null,
   "metadata": {
    "colab": {
     "base_uri": "https://localhost:8080/",
     "height": 514
    },
    "colab_type": "code",
    "id": "rUrey3EqNBSR",
    "outputId": "87a60555-01a4-4160-fbd9-26601d6aa8e6"
   },
   "outputs": [],
   "source": [
    "df.sort_index(ascending=False)"
   ]
  },
  {
   "cell_type": "markdown",
   "metadata": {
    "colab_type": "text",
    "id": "A-QCMZpQNBaC"
   },
   "source": [
    "## 8. column 별로 정렬"
   ]
  },
  {
   "cell_type": "markdown",
   "metadata": {
    "colab_type": "text",
    "id": "fb5qNWbnNBeG"
   },
   "source": [
    "### 8-1. 오름차순 정렬"
   ]
  },
  {
   "cell_type": "code",
   "execution_count": null,
   "metadata": {
    "colab": {
     "base_uri": "https://localhost:8080/",
     "height": 514
    },
    "colab_type": "code",
    "id": "8IkMrd1eNBhB",
    "outputId": "db4a1c1d-9a90-4bf2-9fd9-3aba3cf8e33b"
   },
   "outputs": [],
   "source": [
    "df.sort_values(by='키')"
   ]
  },
  {
   "cell_type": "markdown",
   "metadata": {
    "colab_type": "text",
    "id": "sOHIJo36NBkn"
   },
   "source": [
    "### 8-2. 내림차순 정렬"
   ]
  },
  {
   "cell_type": "code",
   "execution_count": null,
   "metadata": {
    "colab": {
     "base_uri": "https://localhost:8080/",
     "height": 514
    },
    "colab_type": "code",
    "id": "u86XCr7eNBo6",
    "outputId": "d9df5202-fdaf-4e64-9b54-c121d8d96d49"
   },
   "outputs": [],
   "source": [
    "df.sort_values(by='키', ascending=False)"
   ]
  },
  {
   "cell_type": "markdown",
   "metadata": {
    "colab_type": "text",
    "id": "WukelGx1Nu6U"
   },
   "source": [
    "### [BONUS] 복수 정렬"
   ]
  },
  {
   "cell_type": "code",
   "execution_count": null,
   "metadata": {
    "colab": {
     "base_uri": "https://localhost:8080/",
     "height": 514
    },
    "colab_type": "code",
    "id": "zr4SvW3UNySM",
    "outputId": "d32f8a7e-97b4-432f-91a2-0a762597564b"
   },
   "outputs": [],
   "source": [
    "df.sort_values(by=['키', '브랜드평판지수'])"
   ]
  },
  {
   "cell_type": "code",
   "execution_count": null,
   "metadata": {
    "colab": {
     "base_uri": "https://localhost:8080/",
     "height": 514
    },
    "colab_type": "code",
    "id": "U-2goOTWN3eQ",
    "outputId": "989e9280-58ee-4918-b2c8-b2ae6bdb9511"
   },
   "outputs": [],
   "source": [
    "df.sort_values(by=['키', '브랜드평판지수'], ascending=False)"
   ]
  }
 ],
 "metadata": {
  "colab": {
   "collapsed_sections": [],
   "name": "ch01-part05-통계값(describe), 요약 정보(info), 정렬 (sort)-해설",
   "provenance": []
  },
  "kernelspec": {
   "display_name": "Python 3",
   "language": "python",
   "name": "python3"
  },
  "language_info": {
   "codemirror_mode": {
    "name": "ipython",
    "version": 3
   },
   "file_extension": ".py",
   "mimetype": "text/x-python",
   "name": "python",
   "nbconvert_exporter": "python",
   "pygments_lexer": "ipython3",
   "version": "3.7.9"
  }
 },
 "nbformat": 4,
 "nbformat_minor": 1
}
