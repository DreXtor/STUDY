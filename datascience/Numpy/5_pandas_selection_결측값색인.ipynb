{
 "cells": [
  {
   "cell_type": "code",
   "execution_count": null,
   "metadata": {
    "colab": {},
    "colab_type": "code",
    "id": "0rTSp7xc2PPQ"
   },
   "outputs": [],
   "source": [
    "import pandas as pd"
   ]
  },
  {
   "cell_type": "markdown",
   "metadata": {
    "colab_type": "text",
    "id": "jrBrZQXH4WAj"
   },
   "source": [
    "## 실습에 사용할 예제 파일"
   ]
  },
  {
   "cell_type": "markdown",
   "metadata": {
    "colab_type": "text",
    "id": "FccznCXc4Vlz"
   },
   "source": [
    "[국내 아이돌 평판지수 (csv)](http://bit.ly/ds-korean-idol)"
   ]
  },
  {
   "cell_type": "markdown",
   "metadata": {
    "colab_type": "text",
    "id": "Iq6EZ6iA2Vqx"
   },
   "source": [
    "## DataFrame 로드"
   ]
  },
  {
   "cell_type": "code",
   "execution_count": null,
   "metadata": {
    "colab": {},
    "colab_type": "code",
    "id": "A1pjTyaN2YRD"
   },
   "outputs": [],
   "source": [
    "df = pd.read_csv('https://bit.ly/ds-korean-idol')"
   ]
  },
  {
   "cell_type": "code",
   "execution_count": null,
   "metadata": {
    "colab": {},
    "colab_type": "code",
    "id": "w7F_Ij066dqp"
   },
   "outputs": [],
   "source": [
    "df"
   ]
  },
  {
   "cell_type": "markdown",
   "metadata": {
    "colab_type": "text",
    "id": "GMbTLkyo6dAy"
   },
   "source": [
    "## 1. Column을 선택하는 방법"
   ]
  },
  {
   "cell_type": "code",
   "execution_count": null,
   "metadata": {
    "colab": {},
    "colab_type": "code",
    "id": "wrN3XIV66c7B"
   },
   "outputs": [],
   "source": [
    "df.head()"
   ]
  },
  {
   "cell_type": "code",
   "execution_count": null,
   "metadata": {
    "colab": {},
    "colab_type": "code",
    "id": "rT9KA3CgvKiv"
   },
   "outputs": [],
   "source": [
    "type(df['혈액형'])"
   ]
  },
  {
   "cell_type": "code",
   "execution_count": null,
   "metadata": {
    "colab": {},
    "colab_type": "code",
    "id": "1Upw894W6v1h"
   },
   "outputs": [],
   "source": [
    "df['이름']"
   ]
  },
  {
   "cell_type": "code",
   "execution_count": null,
   "metadata": {
    "colab": {},
    "colab_type": "code",
    "id": "ryObBX_K6vti"
   },
   "outputs": [],
   "source": [
    "df[\"이름\"]"
   ]
  },
  {
   "cell_type": "code",
   "execution_count": null,
   "metadata": {
    "colab": {},
    "colab_type": "code",
    "id": "3_WfZ5Av2YXr"
   },
   "outputs": [],
   "source": [
    "df.이름"
   ]
  },
  {
   "cell_type": "code",
   "execution_count": null,
   "metadata": {
    "colab": {},
    "colab_type": "code",
    "id": "MV4IEwMv7Dn6"
   },
   "outputs": [],
   "source": [
    "df.head()"
   ]
  },
  {
   "cell_type": "code",
   "execution_count": null,
   "metadata": {
    "colab": {},
    "colab_type": "code",
    "id": "-W6Stx6lvZhl"
   },
   "outputs": [],
   "source": [
    "df.키"
   ]
  },
  {
   "cell_type": "markdown",
   "metadata": {
    "colab_type": "text",
    "id": "558ZvzxH7DiK"
   },
   "source": [
    "## 2. 범위 선택 (range selection)"
   ]
  },
  {
   "cell_type": "code",
   "execution_count": null,
   "metadata": {
    "colab": {},
    "colab_type": "code",
    "id": "uRWHeACUv2An"
   },
   "outputs": [],
   "source": [
    "df"
   ]
  },
  {
   "cell_type": "markdown",
   "metadata": {
    "colab_type": "text",
    "id": "-DoFwlnt7RDQ"
   },
   "source": [
    "### 2-1. 단순 index에 대한 범위 선택"
   ]
  },
  {
   "cell_type": "code",
   "execution_count": null,
   "metadata": {
    "colab": {},
    "colab_type": "code",
    "id": "8tyBQarE7Dda"
   },
   "outputs": [],
   "source": [
    "df[:3]"
   ]
  },
  {
   "cell_type": "code",
   "execution_count": null,
   "metadata": {
    "colab": {},
    "colab_type": "code",
    "id": "Z3UwTJj2wGw4"
   },
   "outputs": [],
   "source": [
    "df.head(3)"
   ]
  },
  {
   "cell_type": "markdown",
   "metadata": {
    "colab_type": "text",
    "id": "KtNWfBnl7DZ7"
   },
   "source": [
    "### 2-2. loc"
   ]
  },
  {
   "cell_type": "markdown",
   "metadata": {
    "colab_type": "text",
    "id": "8P7fTjCD7DWJ"
   },
   "source": [
    "앞으로 굉장히 **자주 사용**합니다. 반드시 손에 익숙해 지도록 합시다!"
   ]
  },
  {
   "cell_type": "code",
   "execution_count": null,
   "metadata": {
    "colab": {},
    "colab_type": "code",
    "id": "oKcl6Syl7t0A"
   },
   "outputs": [],
   "source": [
    "df.loc[:, '이름']"
   ]
  },
  {
   "cell_type": "code",
   "execution_count": null,
   "metadata": {
    "colab": {},
    "colab_type": "code",
    "id": "Z-aSqpNx7iPk"
   },
   "outputs": [],
   "source": [
    "df.loc[:, ['이름', '생년월일']]"
   ]
  },
  {
   "cell_type": "code",
   "execution_count": null,
   "metadata": {
    "colab": {},
    "colab_type": "code",
    "id": "5fXIxCr67iKj"
   },
   "outputs": [],
   "source": [
    "df.loc[3:8, ['이름', '생년월일']]"
   ]
  },
  {
   "cell_type": "code",
   "execution_count": null,
   "metadata": {
    "colab": {},
    "colab_type": "code",
    "id": "kHGgnl-_wobh"
   },
   "outputs": [],
   "source": [
    "df.head()"
   ]
  },
  {
   "cell_type": "code",
   "execution_count": null,
   "metadata": {
    "colab": {},
    "colab_type": "code",
    "id": "Ie0PykKV8T3R"
   },
   "outputs": [],
   "source": [
    "df.loc[2:5, '이름':'생년월일']"
   ]
  },
  {
   "cell_type": "markdown",
   "metadata": {
    "colab_type": "text",
    "id": "HI04Snu77iGs"
   },
   "source": [
    "### 2-3. iloc (position으로 색인)"
   ]
  },
  {
   "cell_type": "code",
   "execution_count": null,
   "metadata": {
    "colab": {},
    "colab_type": "code",
    "id": "6NWgLA3p8H5x"
   },
   "outputs": [],
   "source": [
    "df.head()"
   ]
  },
  {
   "cell_type": "code",
   "execution_count": null,
   "metadata": {
    "colab": {},
    "colab_type": "code",
    "id": "E1CXGjjY7iBp"
   },
   "outputs": [],
   "source": [
    "df.iloc[:, [0, 2]]"
   ]
  },
  {
   "cell_type": "code",
   "execution_count": null,
   "metadata": {
    "colab": {},
    "colab_type": "code",
    "id": "NR49XN4r7DSp"
   },
   "outputs": [],
   "source": [
    "df.iloc[1:5, [0, 2]]"
   ]
  },
  {
   "cell_type": "code",
   "execution_count": null,
   "metadata": {
    "colab": {},
    "colab_type": "code",
    "id": "4JnmrCLK7DOq"
   },
   "outputs": [],
   "source": [
    "df.iloc[1:5, 1:4]"
   ]
  },
  {
   "cell_type": "markdown",
   "metadata": {
    "colab_type": "text",
    "id": "Kqv_EvCc8qCp"
   },
   "source": [
    "## 3. Boolean Indexing - 조건을 활용한 색인"
   ]
  },
  {
   "cell_type": "markdown",
   "metadata": {
    "colab_type": "text",
    "id": "-qQEHIAo8p1x"
   },
   "source": [
    "Boolean indexing은 **Numpy에서 배웠던 Boolean 인덱싱과 같은 원리**입니다."
   ]
  },
  {
   "cell_type": "code",
   "execution_count": null,
   "metadata": {
    "colab": {
     "base_uri": "https://localhost:8080/",
     "height": 298
    },
    "colab_type": "code",
    "id": "R6U3gioH8pwp",
    "outputId": "d09ba70f-db55-417c-96ae-e54fec68b788"
   },
   "outputs": [],
   "source": [
    "df['키'] > 180"
   ]
  },
  {
   "cell_type": "markdown",
   "metadata": {
    "colab_type": "text",
    "id": "GhjksRVc7DF5"
   },
   "source": [
    "Boolean Index 로 받은 Index 를 활용해서 True인 값만 색인해 낼 수 있습니다.\n",
    "* df[] 꺾쇠로 감싸주고, 그안에 Boolean Index를 넣어주시면 됩니다."
   ]
  },
  {
   "cell_type": "code",
   "execution_count": null,
   "metadata": {
    "colab": {
     "base_uri": "https://localhost:8080/",
     "height": 106
    },
    "colab_type": "code",
    "id": "KghNnx-CyC4C",
    "outputId": "dc9495f8-4338-4f83-9149-c39162c61ef9"
   },
   "outputs": [],
   "source": [
    "df[ df['키'] < 170]"
   ]
  },
  {
   "cell_type": "code",
   "execution_count": null,
   "metadata": {
    "colab": {
     "base_uri": "https://localhost:8080/",
     "height": 106
    },
    "colab_type": "code",
    "id": "qBjCWV_47DA5",
    "outputId": "df2007ad-527a-4080-c2ad-80f12c661f42"
   },
   "outputs": [],
   "source": [
    "df[ df['키'] > 180 ]"
   ]
  },
  {
   "cell_type": "markdown",
   "metadata": {
    "colab_type": "text",
    "id": "bE_MyFX09M-w"
   },
   "source": [
    "위와 같은 방법이 매우 간편한 방법이기는 하지만, **모든 column을 출력해야만 한다는 한계**가 있습니다. \n",
    "* 특정 column과 같이 색인해 내고 싶을땐 어떻게 할까요?"
   ]
  },
  {
   "cell_type": "code",
   "execution_count": null,
   "metadata": {
    "colab": {},
    "colab_type": "code",
    "id": "01PIszXe9NB5"
   },
   "outputs": [],
   "source": [
    "# df[ df['키'] > 180, '이름']"
   ]
  },
  {
   "cell_type": "markdown",
   "metadata": {
    "colab_type": "text",
    "id": "nSzCDdoo94iZ"
   },
   "source": [
    "해결 방법 1. 맨 뒤에 출력할 column 붙히기"
   ]
  },
  {
   "cell_type": "code",
   "execution_count": null,
   "metadata": {
    "colab": {
     "base_uri": "https://localhost:8080/",
     "height": 70
    },
    "colab_type": "code",
    "id": "dgq6eRko1o8k",
    "outputId": "348567c5-7cb3-4de2-9baf-4757f203ee42"
   },
   "outputs": [],
   "source": [
    "df[ df['키'] > 180 ]['이름']"
   ]
  },
  {
   "cell_type": "code",
   "execution_count": null,
   "metadata": {
    "colab": {
     "base_uri": "https://localhost:8080/",
     "height": 106
    },
    "colab_type": "code",
    "id": "XkHckW5d94cZ",
    "outputId": "bc1f0806-ac07-42f1-d9a1-b32f0cf967df"
   },
   "outputs": [],
   "source": [
    "df[ df['키'] > 180 ][['이름', '키']]"
   ]
  },
  {
   "cell_type": "markdown",
   "metadata": {
    "colab_type": "text",
    "id": "zlyXMnOq99UY"
   },
   "source": [
    "해결 방법 2. loc를 활용"
   ]
  },
  {
   "cell_type": "code",
   "execution_count": null,
   "metadata": {
    "colab": {
     "base_uri": "https://localhost:8080/",
     "height": 70
    },
    "colab_type": "code",
    "id": "jOPxhWF099P4",
    "outputId": "50ce7ced-0026-411d-c7b2-0d3a2ff9c89f"
   },
   "outputs": [],
   "source": [
    "df.loc[ df['키'] > 180, '이름']"
   ]
  },
  {
   "cell_type": "code",
   "execution_count": null,
   "metadata": {
    "colab": {
     "base_uri": "https://localhost:8080/",
     "height": 106
    },
    "colab_type": "code",
    "id": "AB7msTnU94XJ",
    "outputId": "951c50e1-3492-41ca-b940-e709f3ed06ec"
   },
   "outputs": [],
   "source": [
    "df.loc[ df['키'] > 180, '이름': '성별']"
   ]
  },
  {
   "cell_type": "code",
   "execution_count": null,
   "metadata": {
    "colab": {
     "base_uri": "https://localhost:8080/",
     "height": 106
    },
    "colab_type": "code",
    "id": "Ix4P2_Le9NFQ",
    "outputId": "c91ec559-49de-4556-81e8-c4786f9b1a0c"
   },
   "outputs": [],
   "source": [
    "df.loc[ df['키'] > 180, ['이름', '키']]"
   ]
  },
  {
   "cell_type": "code",
   "execution_count": null,
   "metadata": {},
   "outputs": [],
   "source": [
    "df"
   ]
  },
  {
   "cell_type": "code",
   "execution_count": null,
   "metadata": {},
   "outputs": [],
   "source": [
    "a = df.loc[df['키'] > 170 , ['이름','키']]\n"
   ]
  },
  {
   "cell_type": "code",
   "execution_count": null,
   "metadata": {},
   "outputs": [],
   "source": [
    "a = df.loc[df['키'] < 180, ['이름','키']]\n",
    "a"
   ]
  },
  {
   "cell_type": "markdown",
   "metadata": {
    "colab_type": "text",
    "id": "7SBBx-o6-bMe"
   },
   "source": [
    "저는 **방법 2를 추천** 합니다."
   ]
  },
  {
   "cell_type": "markdown",
   "metadata": {
    "colab_type": "text",
    "id": "GBI-0K_W-3Lp"
   },
   "source": [
    "## 4. isin을 활용한 색인"
   ]
  },
  {
   "cell_type": "markdown",
   "metadata": {
    "colab_type": "text",
    "id": "58ZkkugY-3Sw"
   },
   "source": [
    "isin을 활용한 색인은 내가 조건을 걸고자 하는 값이 내가 정의한 list에 있을 때만 색인하려는 경우에 사용합니다."
   ]
  },
  {
   "cell_type": "code",
   "execution_count": null,
   "metadata": {},
   "outputs": [],
   "source": [
    "df"
   ]
  },
  {
   "cell_type": "code",
   "execution_count": null,
   "metadata": {
    "colab": {},
    "colab_type": "code",
    "id": "j3W3goXU-bQ3"
   },
   "outputs": [],
   "source": [
    "my_condition = ['플레디스', 'SM']"
   ]
  },
  {
   "cell_type": "code",
   "execution_count": null,
   "metadata": {
    "colab": {
     "base_uri": "https://localhost:8080/",
     "height": 298
    },
    "colab_type": "code",
    "id": "bsBb9_KE_QVU",
    "outputId": "a4fe7d12-cbd9-48d7-f800-58c57af17565",
    "scrolled": true
   },
   "outputs": [],
   "source": [
    "df['소속사'].isin(my_condition)"
   ]
  },
  {
   "cell_type": "code",
   "execution_count": null,
   "metadata": {
    "colab": {
     "base_uri": "https://localhost:8080/",
     "height": 166
    },
    "colab_type": "code",
    "id": "prJnegZe_QPn",
    "outputId": "45061cee-95a1-4a77-9281-dc2c75b2a5c1"
   },
   "outputs": [],
   "source": [
    "df.loc[ df['소속사'].isin(my_condition) ]"
   ]
  },
  {
   "cell_type": "code",
   "execution_count": null,
   "metadata": {
    "colab": {
     "base_uri": "https://localhost:8080/",
     "height": 105
    },
    "colab_type": "code",
    "id": "qcPRnYIO_a3w",
    "outputId": "f8ae5ab4-5c3c-4033-d3b2-cc6826680c40"
   },
   "outputs": [],
   "source": [
    "df.loc[ df['소속사'].isin(my_condition), '소속사' ]"
   ]
  },
  {
   "cell_type": "markdown",
   "metadata": {
    "colab_type": "text",
    "id": "2SoKSzsn2gYz"
   },
   "source": [
    "## 5. 결측값(Null) 알아보기"
   ]
  },
  {
   "cell_type": "markdown",
   "metadata": {
    "colab_type": "text",
    "id": "n9zNqC5O4zcy"
   },
   "source": [
    "### 5-1. NaN 값에 대하여"
   ]
  },
  {
   "cell_type": "markdown",
   "metadata": {
    "colab_type": "text",
    "id": "T4OFKtMi2gdL"
   },
   "source": [
    "* Null 값은 **비어있는 값, 고~급 언어로 결측값**입니다.\n",
    "* pandas 에서는 NaN => Not a Number 로 표기 된 것을 확인해 볼 수 있습니다."
   ]
  },
  {
   "cell_type": "code",
   "execution_count": null,
   "metadata": {
    "colab": {
     "base_uri": "https://localhost:8080/",
     "height": 491
    },
    "colab_type": "code",
    "id": "iYbeTbAx2qjb",
    "outputId": "d65a514f-d38b-4b9b-e46d-2fcf1c1c9402"
   },
   "outputs": [],
   "source": [
    "df"
   ]
  },
  {
   "cell_type": "markdown",
   "metadata": {
    "colab_type": "text",
    "id": "SGwwZ0Gj4iHb"
   },
   "source": [
    "info() 로 NaN 값, 즉 빠진 데이터가 어디에 있는지 쉽게 요약정보로 확인할 수 있습니다."
   ]
  },
  {
   "cell_type": "code",
   "execution_count": null,
   "metadata": {
    "colab": {
     "base_uri": "https://localhost:8080/",
     "height": 246
    },
    "colab_type": "code",
    "id": "mx97TgZb4PMk",
    "outputId": "369b75d6-2ec9-455c-8a14-dda354447092"
   },
   "outputs": [],
   "source": [
    "df.info()"
   ]
  },
  {
   "cell_type": "markdown",
   "metadata": {
    "colab_type": "text",
    "id": "fVieV4T14wsD"
   },
   "source": [
    "### 5-2. 결측 값 다루기"
   ]
  },
  {
   "cell_type": "markdown",
   "metadata": {
    "colab_type": "text",
    "id": "e5XgeJMW479a"
   },
   "source": [
    "Boolean 인덱싱"
   ]
  },
  {
   "cell_type": "code",
   "execution_count": null,
   "metadata": {
    "colab": {
     "base_uri": "https://localhost:8080/",
     "height": 491
    },
    "colab_type": "code",
    "id": "PVDxvBpH45qi",
    "outputId": "b23b7815-b587-4630-b154-65556823f1c2"
   },
   "outputs": [],
   "source": [
    "df.isna()"
   ]
  },
  {
   "cell_type": "markdown",
   "metadata": {
    "colab_type": "text",
    "id": "PVfV-T3k5TPh"
   },
   "source": [
    "info() 메소드를 통해서 전체적으로 어떤 column에 빠진 데이터가 있는지 알아 보았습니다.\n",
    "\n",
    "또한, 다음과 같이 특정 column에서 빠진 값을 색출해 낼 수 있습니다."
   ]
  },
  {
   "cell_type": "markdown",
   "metadata": {
    "colab_type": "text",
    "id": "X5vfnuSy5kxS"
   },
   "source": [
    "1. Boolean 인덱싱으로 True가 return 되는 값이 NaN이라는 것을 알 수 있습니다."
   ]
  },
  {
   "cell_type": "code",
   "execution_count": null,
   "metadata": {
    "colab": {
     "base_uri": "https://localhost:8080/",
     "height": 298
    },
    "colab_type": "code",
    "id": "STc00B6e5jJ6",
    "outputId": "60382ba7-b209-482f-f52a-331da91645ea"
   },
   "outputs": [],
   "source": [
    "df['그룹'].isnull()"
   ]
  },
  {
   "cell_type": "markdown",
   "metadata": {
    "colab_type": "text",
    "id": "YBOSqiWP51JR"
   },
   "source": [
    "2. NaN 값만 색출해내기"
   ]
  },
  {
   "cell_type": "code",
   "execution_count": null,
   "metadata": {
    "colab": {
     "base_uri": "https://localhost:8080/",
     "height": 52
    },
    "colab_type": "code",
    "id": "Zqw-9p5H46rK",
    "outputId": "54c86762-6e83-4f58-bc7a-86de37c6549e"
   },
   "outputs": [],
   "source": [
    "df['그룹'][df['그룹'].isnull()]"
   ]
  },
  {
   "cell_type": "code",
   "execution_count": null,
   "metadata": {
    "colab": {
     "base_uri": "https://localhost:8080/",
     "height": 52
    },
    "colab_type": "code",
    "id": "0O4UFNJK5AO7",
    "outputId": "eec7dc11-1a49-458e-d56c-4e7078f04236"
   },
   "outputs": [],
   "source": [
    "df['그룹'][df['그룹'].isna()]"
   ]
  },
  {
   "cell_type": "markdown",
   "metadata": {
    "colab_type": "text",
    "id": "Xgn92f8-54ei"
   },
   "source": [
    "3. NaN이 아닌 값에 대하여 Boolean 인덱싱"
   ]
  },
  {
   "cell_type": "code",
   "execution_count": null,
   "metadata": {
    "colab": {
     "base_uri": "https://localhost:8080/",
     "height": 298
    },
    "colab_type": "code",
    "id": "X10DnvaP5hEb",
    "outputId": "65796798-9d0b-4bfb-8b0f-54a209508b1b"
   },
   "outputs": [],
   "source": [
    "df['그룹'].notnull()"
   ]
  },
  {
   "cell_type": "markdown",
   "metadata": {
    "colab_type": "text",
    "id": "RqIf43hf6TKB"
   },
   "source": [
    "4. NaN이 아닌 값만 색출해내기"
   ]
  },
  {
   "cell_type": "code",
   "execution_count": null,
   "metadata": {
    "colab": {
     "base_uri": "https://localhost:8080/",
     "height": 281
    },
    "colab_type": "code",
    "id": "MC91BY9d5xhi",
    "outputId": "4a8f8234-9fd3-4f6c-b577-7c74051a7cb6"
   },
   "outputs": [],
   "source": [
    "df['그룹'][df['그룹'].notnull()]"
   ]
  },
  {
   "cell_type": "code",
   "execution_count": null,
   "metadata": {
    "colab": {
     "base_uri": "https://localhost:8080/",
     "height": 462
    },
    "colab_type": "code",
    "id": "kFQjN83e6AUa",
    "outputId": "2e4c80a9-9748-4a19-e4b3-204c349617df"
   },
   "outputs": [],
   "source": [
    "df.loc[ df['그룹'].notnull(), ['키', '혈액형'] ]"
   ]
  }
 ],
 "metadata": {
  "colab": {
   "collapsed_sections": [],
   "name": "ch01-part06~09-pandas-실습예제2-해설",
   "provenance": []
  },
  "kernelspec": {
   "display_name": "Python 3",
   "language": "python",
   "name": "python3"
  },
  "language_info": {
   "codemirror_mode": {
    "name": "ipython",
    "version": 3
   },
   "file_extension": ".py",
   "mimetype": "text/x-python",
   "name": "python",
   "nbconvert_exporter": "python",
   "pygments_lexer": "ipython3",
   "version": "3.7.9"
  }
 },
 "nbformat": 4,
 "nbformat_minor": 1
}
